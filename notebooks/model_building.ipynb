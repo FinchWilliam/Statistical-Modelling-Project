{
 "cells": [
  {
   "cell_type": "markdown",
   "metadata": {},
   "source": [
    "Build a regression model."
   ]
  },
  {
   "cell_type": "code",
   "execution_count": 1,
   "metadata": {},
   "outputs": [],
   "source": [
    "# Is there a link between the number of bike stations close to a restaurant and the rating of the restaurant?\n",
    "# import numpy\n",
    "import numpy as np\n",
    "import pandas as pd\n",
    "\n",
    "# import linear_model and datasets from sklearn\n",
    "import statsmodels.api as sm\n",
    "yelp_df = pd.read_pickle('../data/yelp_dataframe.pkl')\n",
    "fsq_df = pd.read_pickle('../data/fsq_dataframe.pkl')\n",
    "bike_df = pd.read_pickle('../data/bike_dataframe.pkl')\n",
    "fsq_categories = pd.read_pickle('../data/fsq_categories_df.pkl')\n",
    "yelp_categories = pd.read_pickle('../data/yelp_categories.pkl')\n",
    "regression_df = pd.merge(yelp_df, bike_df, how='inner', on='bs_id')"
   ]
  },
  {
   "cell_type": "markdown",
   "metadata": {},
   "source": [
    "Provide model output and an interpretation of the results. "
   ]
  },
  {
   "cell_type": "code",
   "execution_count": 2,
   "metadata": {},
   "outputs": [
    {
     "data": {
      "text/html": [
       "<div>\n",
       "<style scoped>\n",
       "    .dataframe tbody tr th:only-of-type {\n",
       "        vertical-align: middle;\n",
       "    }\n",
       "\n",
       "    .dataframe tbody tr th {\n",
       "        vertical-align: top;\n",
       "    }\n",
       "\n",
       "    .dataframe thead th {\n",
       "        text-align: right;\n",
       "    }\n",
       "</style>\n",
       "<table border=\"1\" class=\"dataframe\">\n",
       "  <thead>\n",
       "    <tr style=\"text-align: right;\">\n",
       "      <th></th>\n",
       "      <th>yelp_id</th>\n",
       "      <th>rating</th>\n",
       "      <th>num_bike_stations</th>\n",
       "      <th>avg_distance</th>\n",
       "    </tr>\n",
       "  </thead>\n",
       "  <tbody>\n",
       "    <tr>\n",
       "      <th>0</th>\n",
       "      <td>-3U1K-W87mtmRdNO4d-UUg</td>\n",
       "      <td>4.5</td>\n",
       "      <td>3</td>\n",
       "      <td>271.809363</td>\n",
       "    </tr>\n",
       "    <tr>\n",
       "      <th>1</th>\n",
       "      <td>-9_4a5avO5hdClyAdNRicw</td>\n",
       "      <td>3.6</td>\n",
       "      <td>3</td>\n",
       "      <td>268.223683</td>\n",
       "    </tr>\n",
       "    <tr>\n",
       "      <th>2</th>\n",
       "      <td>-CNdcUG-6q5c1yZ8cM_MUg</td>\n",
       "      <td>4.1</td>\n",
       "      <td>9</td>\n",
       "      <td>647.757418</td>\n",
       "    </tr>\n",
       "    <tr>\n",
       "      <th>3</th>\n",
       "      <td>-FhPFfOrHIc9t69Qgrxmsw</td>\n",
       "      <td>4.8</td>\n",
       "      <td>1</td>\n",
       "      <td>180.839129</td>\n",
       "    </tr>\n",
       "    <tr>\n",
       "      <th>4</th>\n",
       "      <td>-HGeu3vZUYNLwEoRb-KhMw</td>\n",
       "      <td>4.1</td>\n",
       "      <td>1</td>\n",
       "      <td>783.745818</td>\n",
       "    </tr>\n",
       "    <tr>\n",
       "      <th>...</th>\n",
       "      <td>...</td>\n",
       "      <td>...</td>\n",
       "      <td>...</td>\n",
       "      <td>...</td>\n",
       "    </tr>\n",
       "    <tr>\n",
       "      <th>1166</th>\n",
       "      <td>zjEdfLF4v8WqdkpDiPqjWg</td>\n",
       "      <td>4.8</td>\n",
       "      <td>11</td>\n",
       "      <td>10019.009627</td>\n",
       "    </tr>\n",
       "    <tr>\n",
       "      <th>1167</th>\n",
       "      <td>zoNL3rnRBrUdByTGkiyfeQ</td>\n",
       "      <td>3.7</td>\n",
       "      <td>1</td>\n",
       "      <td>7168.766116</td>\n",
       "    </tr>\n",
       "    <tr>\n",
       "      <th>1168</th>\n",
       "      <td>zs02vRnaP8TB67r2OcCeIQ</td>\n",
       "      <td>4.3</td>\n",
       "      <td>61</td>\n",
       "      <td>968.472203</td>\n",
       "    </tr>\n",
       "    <tr>\n",
       "      <th>1169</th>\n",
       "      <td>zsJoDVfWfiA8pYMey2Ix2Q</td>\n",
       "      <td>5.0</td>\n",
       "      <td>1</td>\n",
       "      <td>202.969837</td>\n",
       "    </tr>\n",
       "    <tr>\n",
       "      <th>1170</th>\n",
       "      <td>zvpzzvGOsM29I3PAZMv3VA</td>\n",
       "      <td>4.6</td>\n",
       "      <td>5</td>\n",
       "      <td>669.760253</td>\n",
       "    </tr>\n",
       "  </tbody>\n",
       "</table>\n",
       "<p>1171 rows × 4 columns</p>\n",
       "</div>"
      ],
      "text/plain": [
       "                     yelp_id  rating  num_bike_stations  avg_distance\n",
       "0     -3U1K-W87mtmRdNO4d-UUg     4.5                  3    271.809363\n",
       "1     -9_4a5avO5hdClyAdNRicw     3.6                  3    268.223683\n",
       "2     -CNdcUG-6q5c1yZ8cM_MUg     4.1                  9    647.757418\n",
       "3     -FhPFfOrHIc9t69Qgrxmsw     4.8                  1    180.839129\n",
       "4     -HGeu3vZUYNLwEoRb-KhMw     4.1                  1    783.745818\n",
       "...                      ...     ...                ...           ...\n",
       "1166  zjEdfLF4v8WqdkpDiPqjWg     4.8                 11  10019.009627\n",
       "1167  zoNL3rnRBrUdByTGkiyfeQ     3.7                  1   7168.766116\n",
       "1168  zs02vRnaP8TB67r2OcCeIQ     4.3                 61    968.472203\n",
       "1169  zsJoDVfWfiA8pYMey2Ix2Q     5.0                  1    202.969837\n",
       "1170  zvpzzvGOsM29I3PAZMv3VA     4.6                  5    669.760253\n",
       "\n",
       "[1171 rows x 4 columns]"
      ]
     },
     "execution_count": 2,
     "metadata": {},
     "output_type": "execute_result"
    }
   ],
   "source": [
    "#count the number of times each yelp id comes up, will tell us how many bike stations it has near it\n",
    "bikes_near_restaurant = regression_df[['yelp_id', 'rating', 'name']].groupby(by=['yelp_id', 'rating']).count()\n",
    "avg_distance = regression_df[['yelp_id', 'rating', 'distance']].groupby(by=['yelp_id', 'rating']).mean()\n",
    "bikes_near_restaurant = pd.merge(bikes_near_restaurant, avg_distance, how='right', on=['yelp_id', 'rating'])\n",
    "bikes_near_restaurant.rename(columns={'name': 'num_bike_stations', 'distance': 'avg_distance'}, inplace=True)\n",
    "bikes_near_restaurant = bikes_near_restaurant.reset_index() \n",
    "bikes_near_restaurant"
   ]
  },
  {
   "cell_type": "code",
   "execution_count": 3,
   "metadata": {},
   "outputs": [],
   "source": [
    "# lets create our X and Y axis, we are looking at the number of bikes VS the rating they recieved\n",
    "X = bikes_near_restaurant.drop(['rating','yelp_id'], axis = 1)\n",
    "y = bikes_near_restaurant['rating']\n",
    "\n",
    "# add a constant to my X values to give the model some wiggle room to fit nicer\n",
    "X = sm.add_constant(X)\n",
    "#build my OLS squares\n",
    "lin_reg = sm.OLS(y,X['num_bike_stations'])"
   ]
  },
  {
   "cell_type": "code",
   "execution_count": 4,
   "metadata": {},
   "outputs": [
    {
     "name": "stdout",
     "output_type": "stream",
     "text": [
      "                                 OLS Regression Results                                \n",
      "=======================================================================================\n",
      "Dep. Variable:                 rating   R-squared (uncentered):                   0.329\n",
      "Model:                            OLS   Adj. R-squared (uncentered):              0.328\n",
      "Method:                 Least Squares   F-statistic:                              573.2\n",
      "Date:                Sun, 15 Dec 2024   Prob (F-statistic):                   2.06e-103\n",
      "Time:                        21:13:53   Log-Likelihood:                         -3087.1\n",
      "No. Observations:                1171   AIC:                                      6176.\n",
      "Df Residuals:                    1170   BIC:                                      6181.\n",
      "Df Model:                           1                                                  \n",
      "Covariance Type:            nonrobust                                                  \n",
      "=====================================================================================\n",
      "                        coef    std err          t      P>|t|      [0.025      0.975]\n",
      "-------------------------------------------------------------------------------------\n",
      "num_bike_stations     0.1859      0.008     23.941      0.000       0.171       0.201\n",
      "==============================================================================\n",
      "Omnibus:                      816.519   Durbin-Watson:                   0.696\n",
      "Prob(Omnibus):                  0.000   Jarque-Bera (JB):            10030.156\n",
      "Skew:                          -3.179   Prob(JB):                         0.00\n",
      "Kurtosis:                      15.851   Cond. No.                         1.00\n",
      "==============================================================================\n",
      "\n",
      "Notes:\n",
      "[1] R² is computed without centering (uncentered) since the model does not contain a constant.\n",
      "[2] Standard Errors assume that the covariance matrix of the errors is correctly specified.\n"
     ]
    }
   ],
   "source": [
    "#build my model and display it\n",
    "model = lin_reg.fit()\n",
    "print_model = model.summary()\n",
    "print(print_model)"
   ]
  },
  {
   "cell_type": "markdown",
   "metadata": {},
   "source": [
    "A Few major and easily noticable things here, \n",
    "1. Our P score is insignificantly small, so YAY our test is unlikely to be completly random and we can be comfortable in our standings.\n",
    "2. our R-squared is fairly small, looking at .329 so approximately 32.9% of the variance in restaurants ratings can be explained by the model.\n",
    "3. Our Coeficiant is sitting at .1859 so for every 1 that extra bike station you would expect the star rating to go up by .1859\n",
    "\n",
    "Wonderful! We might say we have solved restaurants! Simply put up 27 bike stations with 500m of your restaurant and you are GUARENTEED a 5* rating, sadly we all know this isn't true and a more accurate way of looking at this model would be understanding the busier areas (that have more bike stations) are going to be more popular for the better restaurants."
   ]
  },
  {
   "cell_type": "markdown",
   "metadata": {},
   "source": [
    "# Stretch"
   ]
  },
  {
   "cell_type": "markdown",
   "metadata": {},
   "source": [
    "How can you turn the regression model into a classification model?"
   ]
  },
  {
   "cell_type": "markdown",
   "metadata": {},
   "source": [
    " - We could easily edit this as we are looking at Ratings, 0-5 potential options into a classification problem based on those factors, I am running out of time to do the full calculation on that sadly this time around but I will look into it more in the future."
   ]
  }
 ],
 "metadata": {
  "kernelspec": {
   "display_name": "test_env",
   "language": "python",
   "name": "python3"
  },
  "language_info": {
   "codemirror_mode": {
    "name": "ipython",
    "version": 3
   },
   "file_extension": ".py",
   "mimetype": "text/x-python",
   "name": "python",
   "nbconvert_exporter": "python",
   "pygments_lexer": "ipython3",
   "version": "3.9.20"
  }
 },
 "nbformat": 4,
 "nbformat_minor": 4
}
